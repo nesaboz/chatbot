{
 "cells": [
  {
   "cell_type": "markdown",
   "metadata": {},
   "source": [
    "# Prompt engineering"
   ]
  },
  {
   "cell_type": "markdown",
   "metadata": {},
   "source": [
    "Input, context, instructions, and output are the four components of a prompt. The input is the initial part of the prompt, the context is the information that the model uses to generate the output, and the instructions are the guidelines that the model follows to generate the output. The output is the result of the model's processing of the input, context, and instructions.\n",
    "\n",
    "Zero-shot, one-shot, and few-shot are three types of context learning.\n",
    "\n",
    "Parameters:\n",
    "- Max new tokens\n",
    "- Greedy versus random sampling (top-k, top-p)\n",
    "- The higher the temperature, the higher the randomness; the lower the temperature, the lower the randomness.\n"
   ]
  },
  {
   "cell_type": "code",
   "execution_count": null,
   "metadata": {},
   "outputs": [],
   "source": []
  }
 ],
 "metadata": {
  "language_info": {
   "name": "python"
  }
 },
 "nbformat": 4,
 "nbformat_minor": 2
}
