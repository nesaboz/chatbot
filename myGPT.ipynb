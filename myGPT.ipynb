{
 "cells": [
  {
   "cell_type": "markdown",
   "metadata": {},
   "source": [
    "---\n",
    "author: Nenad Bozinovic\n",
    "date: 2024-02-01\n",
    "toc: true\n",
    "image:  myGPT_thumbnail.jpg\n",
    "tags: [technical]\n",
    "title: OpenAI API Demo\n",
    "---"
   ]
  },
  {
   "cell_type": "markdown",
   "metadata": {},
   "source": [
    "Try it for yourself at <a href=\"http://mygpt.nenadbozinovic.com\" target=\"_blank\">MyGPT</a>."
   ]
  },
  {
   "cell_type": "markdown",
   "metadata": {},
   "source": [
    "Welcome to MyGPT, a simple demo of how to use OpenAI's GPT-4 API.\n",
    "\n",
    "The design will be simple: I'll use AWS Lambda to call APIs, and I'll host a Streamlit based web app on EC2 (for now)."
   ]
  },
  {
   "cell_type": "markdown",
   "metadata": {},
   "source": [
    "## Main code\n",
    "\n",
    "Let's start by creating the main code for the chatbot, where the main part will be calling the OpenAI API.\n"
   ]
  },
  {
   "cell_type": "code",
   "execution_count": 55,
   "metadata": {},
   "outputs": [],
   "source": [
    "import json\n",
    "from openai import OpenAI\n",
    "import os\n",
    "from IPython.display import Markdown\n",
    "import requests\n",
    "import boto3"
   ]
  },
  {
   "cell_type": "markdown",
   "metadata": {},
   "source": [
    "Let's first define client:"
   ]
  },
  {
   "cell_type": "code",
   "execution_count": 52,
   "metadata": {},
   "outputs": [],
   "source": [
    "api_key = os.getenv(\"OPENAI_API_KEY\")\n",
    "client = OpenAI(api_key=api_key)"
   ]
  },
  {
   "cell_type": "markdown",
   "metadata": {},
   "source": [
    "And let's give chat a role first:\n"
   ]
  },
  {
   "cell_type": "code",
   "execution_count": 53,
   "metadata": {},
   "outputs": [],
   "source": [
    "chat = [{\"role\": \"system\", \"content\": 'You are software engineer'}]"
   ]
  },
  {
   "cell_type": "markdown",
   "metadata": {},
   "source": [
    "The way the API works is that we extend the the chat with user messages and assistant replies:"
   ]
  },
  {
   "cell_type": "code",
   "execution_count": 54,
   "metadata": {},
   "outputs": [],
   "source": [
    "def question(chat_history, some_question, client=client):\n",
    "        \"\"\"We take a chat_history, append a question as a user, then get a reply from the assistant, and append that too\n",
    "\n",
    "        Args:\n",
    "            chat_history (list): A list of dictionaries, with each dictionary containing a role and content key\n",
    "            some_question (string): \n",
    "        \"\"\"\n",
    "        chat_history.append({\"role\": \"user\", \"content\": some_question})\n",
    "        reply = client.chat.completions.create(\n",
    "                model=\"gpt-4\",\n",
    "                messages=chat\n",
    "                )\n",
    "        reply_message = reply.choices[0].message\n",
    "        chat_history.append({'role': reply_message.role, 'content':reply_message.content})\n",
    "        display(Markdown(reply_message.content))\n",
    "        "
   ]
  },
  {
   "cell_type": "code",
   "execution_count": 59,
   "metadata": {},
   "outputs": [
    {
     "data": {
      "text/markdown": [
       "As of 2021, JavaScript is considered the most popular programming language. However, Python and Java are also widely used and popular. Popularity can depend on the specific sector of software engineering, such as data science (Python) or web development (JavaScript)."
      ],
      "text/plain": [
       "<IPython.core.display.Markdown object>"
      ]
     },
     "metadata": {},
     "output_type": "display_data"
    }
   ],
   "source": [
    "question(chat, \"What is most popular programming language today?\")"
   ]
  },
  {
   "cell_type": "code",
   "execution_count": 44,
   "metadata": {},
   "outputs": [
    {
     "data": {
      "text/markdown": [
       "According to the Stack Overflow Developer Survey 2021, the most popular programming languages among professional developers are:\n",
       "\n",
       "- JavaScript - 64.96%\n",
       "- Python - 44.01%\n",
       "- Java - 40.2%\n",
       "- TypeScript - 28.3%\n",
       "- C# - 27.39%\n",
       "- PHP - 23.36%\n",
       "- C++ - 21.57%\n",
       "- C - 20.59%\n",
       "\n",
       "Note that these percentages represent the respondents who use these languages, and as developers often use multiple languages, the percentages will add up to more than 100%. The survey had over 80,000 respondents."
      ],
      "text/plain": [
       "<IPython.core.display.Markdown object>"
      ]
     },
     "metadata": {},
     "output_type": "display_data"
    }
   ],
   "source": [
    "question(chat, \"Can you give me some stats in terms of numbers too?\")"
   ]
  },
  {
   "cell_type": "markdown",
   "metadata": {},
   "source": [
    "## Call AWS Lambda"
   ]
  },
  {
   "cell_type": "markdown",
   "metadata": {},
   "source": [
    "We will now move the API calls to cloud, in particular to AWS Lambda. We first create a layer with the dependencies:"
   ]
  },
  {
   "cell_type": "markdown",
   "metadata": {},
   "source": [
    "### Create a Layer\n",
    "\n",
    "- `virtualenv env_name_of_choice && source env_name_of_choice/bin/activate`\n",
    "- Lambda has issues with some native libraries per [this](https://docs.aws.amazon.com/lambda/latest/dg/python-package.html#python-package-native-libraries), so make sure to run this when installing packages:\n",
    "```bash\n",
    "pip install --platform manylinux2014_x86_64 --target=package --implementation cp --python-version 3.x --only-binary=:all: --upgrade <package_name> -t ./theEnvFolder/python\n",
    "```\n",
    "or use old version of `pydantic`:\n",
    "```bash\n",
    "pip install openai==1.10.0 pydantic==1.10.12 -t ./theEnvFolder/python   # there is a bug in later versions of pydantic, \n",
    "```\n",
    "\n",
    "now just zip the environment folder and upload it to AWS Lambda:\n",
    "```bash\n",
    "cd theEnvFolder\n",
    "zip -r layer.zip . \n",
    "aws lambda publish-layer-version --layer-name openai_layer --zip-file fileb://layer.zip --compatible-runtimes python3.11 --no-cli-pager\n",
    "```\n"
   ]
  },
  {
   "cell_type": "markdown",
   "metadata": {},
   "source": [
    "### Create Lambda\n",
    "\n",
    "Create IAM Role that will allow to execute AWS Lambda.\n",
    "\n",
    "Make sure Lambda Python version matches the version in the Layer above.\n",
    "\n",
    "Let's use the code from f-on `question`. There are two ways we can call Lambda function and pass the payload directly (so no need for AWS API Gateway):\n",
    "- using URL\n",
    "- using boto3 \n",
    "\n",
    "We'll demo both, but URL might be better when using HTML.\n",
    "\n",
    "```python\n",
    "import json\n",
    "from openai import OpenAI\n",
    "import os\n",
    "\n",
    "def lambda_handler(event, context):\n",
    "    \"\"\"\n",
    "    event is a same as chat i.e. list of dictionaries with role and content (in a case when called via URL it is slightly different since it is embedded in the extra layer so we extract body first)\n",
    "    \"\"\"\n",
    "    \n",
    "    api_key = os.getenv(\"OPENAI_API_KEY\")\n",
    "    client = OpenAI(api_key=api_key)\n",
    "    \n",
    "    if 'body' in event:  # this is needed when calling Lambda via URL, since URL call and boto3 have different event structure\n",
    "        event = json.loads(json.loads(event.get('body')))\n",
    "        \n",
    "    chat_history = event\n",
    "        \n",
    "    reply = client.chat.completions.create(\n",
    "        model=\"gpt-4\",\n",
    "        messages=chat_history\n",
    "        )\n",
    "    \n",
    "    reply_message = reply.choices[0].message\n",
    "    chat_history.append({'role': reply_message.role, 'content':reply_message.content})\n",
    "\n",
    "    return {\n",
    "        'statusCode': 200,\n",
    "        'body': chat_history\n",
    "    }\n",
    "```"
   ]
  },
  {
   "cell_type": "markdown",
   "metadata": {},
   "source": [
    "\n",
    "\n",
    "#### URL call"
   ]
  },
  {
   "cell_type": "markdown",
   "metadata": {},
   "source": [
    "Let's say we have a chat, that we want to call Lambda f-on with:"
   ]
  },
  {
   "cell_type": "code",
   "execution_count": 282,
   "metadata": {},
   "outputs": [],
   "source": [
    "chat = [{'role': 'system', 'content': 'You are software engineer'},\n",
    " {'role': 'user',\n",
    "  'content': 'What is most popular programming language today?'}]"
   ]
  },
  {
   "cell_type": "markdown",
   "metadata": {},
   "source": [
    "We want to pass this chat to a Lambda function and then get back the chat that will have appended the reply from the assistant."
   ]
  },
  {
   "cell_type": "code",
   "execution_count": 283,
   "metadata": {},
   "outputs": [
    {
     "name": "stdout",
     "output_type": "stream",
     "text": [
      "Please wait while GPT4 is done ...\n"
     ]
    }
   ],
   "source": [
    "# Your Lambda function's URL\n",
    "lambda_url = \"xyz\"\n",
    "print(\"Please wait while GPT4 is done ...\")\n",
    "headers = {'Content-Type': 'application/json'}\n",
    "r = requests.post(headers=headers, url=lambda_url, json=json.dumps(chat))\n",
    "response_url = json.loads(r.content.decode('utf-8'))"
   ]
  },
  {
   "cell_type": "code",
   "execution_count": 284,
   "metadata": {},
   "outputs": [
    {
     "data": {
      "text/markdown": [
       "As of now, JavaScript is considered one of the most popular programming languages due to its wide use in web development. However, other notable languages in popularity include Python, Java, and C#. It can vary depending on the sector and application."
      ],
      "text/plain": [
       "<IPython.core.display.Markdown object>"
      ]
     },
     "execution_count": 284,
     "metadata": {},
     "output_type": "execute_result"
    }
   ],
   "source": [
    "Markdown(response_url[-1]['content'])"
   ]
  },
  {
   "cell_type": "markdown",
   "metadata": {},
   "source": [
    "Second method is using boto3:"
   ]
  },
  {
   "cell_type": "code",
   "execution_count": 285,
   "metadata": {},
   "outputs": [],
   "source": [
    "lambda_client = boto3.client('lambda')\n",
    "function_name = 'myGPT'\n",
    "\n",
    "# Invoke the Lambda function\n",
    "r = lambda_client.invoke(\n",
    "    FunctionName=function_name,\n",
    "    InvocationType='RequestResponse',  # Use 'Event' for asynchronous execution\n",
    "    Payload=json.dumps(chat))\n",
    "response_boto3 = json.loads(r['Payload'].read().decode('utf-8'))['body']\n"
   ]
  },
  {
   "cell_type": "code",
   "execution_count": 289,
   "metadata": {},
   "outputs": [
    {
     "data": {
      "text/plain": [
       "[{'role': 'system', 'content': 'You are software engineer'},\n",
       " {'role': 'user',\n",
       "  'content': 'What is most popular programming language today?'},\n",
       " {'role': 'assistant',\n",
       "  'content': 'As of 2022, the most popular programming language is JavaScript, often followed closely by Python and Java. However, the popularity of a language can vary based on different factors such as the industry, geographical location, and specific tasks or workloads involved.'}]"
      ]
     },
     "execution_count": 289,
     "metadata": {},
     "output_type": "execute_result"
    }
   ],
   "source": [
    "response_boto3"
   ]
  },
  {
   "cell_type": "code",
   "execution_count": 287,
   "metadata": {},
   "outputs": [
    {
     "data": {
      "text/markdown": [
       "As of 2022, the most popular programming language is JavaScript, often followed closely by Python and Java. However, the popularity of a language can vary based on different factors such as the industry, geographical location, and specific tasks or workloads involved."
      ],
      "text/plain": [
       "<IPython.core.display.Markdown object>"
      ]
     },
     "execution_count": 287,
     "metadata": {},
     "output_type": "execute_result"
    }
   ],
   "source": [
    "Markdown(response_boto3[-1]['content'])"
   ]
  },
  {
   "cell_type": "markdown",
   "metadata": {},
   "source": [
    "## Conclusion\n",
    "\n",
    "We have shown two approaches to call OpenAI API. We can now make a webpage out of this so we can repeatedly call the Lambda function and get the response back.\n",
    "I have written short [streamlit](https://github.com/nesaboz/blog/blob/main/nbs/projects/myGPT/streamlit.py) code for this. \n"
   ]
  },
  {
   "cell_type": "markdown",
   "metadata": {},
   "source": [
    "\n",
    "We could host this in many ways including third-party options, I decided to go with my own webapp on EC2."
   ]
  },
  {
   "cell_type": "markdown",
   "metadata": {},
   "source": []
  }
 ],
 "metadata": {
  "kernelspec": {
   "display_name": "blog",
   "language": "python",
   "name": "python3"
  },
  "language_info": {
   "codemirror_mode": {
    "name": "ipython",
    "version": 3
   },
   "file_extension": ".py",
   "mimetype": "text/x-python",
   "name": "python",
   "nbconvert_exporter": "python",
   "pygments_lexer": "ipython3",
   "version": "3.11.5"
  }
 },
 "nbformat": 4,
 "nbformat_minor": 2
}
